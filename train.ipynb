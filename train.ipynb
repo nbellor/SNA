{
 "cells": [
  {
   "cell_type": "code",
   "execution_count": 1,
   "metadata": {},
   "outputs": [],
   "source": [
    "import dgl\n",
    "from dgl.data import DGLDataset"
   ]
  },
  {
   "cell_type": "code",
   "execution_count": 2,
   "metadata": {},
   "outputs": [],
   "source": [
    "import argparse\n",
    "\n",
    "def parse_args():\n",
    "    \"\"\"\n",
    "    Generate a parameters parser.\n",
    "    \"\"\"\n",
    "    # parse parameters\n",
    "    parser = argparse.ArgumentParser()\n",
    "\n",
    "    # main parameters\n",
    "    parser.add_argument('--seed', type=int, default=3407, \n",
    "                        help='Random seed.')\n",
    "    \n",
    "    return parser.parse_args()\n",
    "\n",
    "# args = parse_args()"
   ]
  },
  {
   "cell_type": "code",
   "execution_count": 3,
   "metadata": {},
   "outputs": [],
   "source": [
    "args = argparse.Namespace()\n",
    "\n",
    "args.seed = 3407\n",
    "args.dataset = 'cora'\n"
   ]
  },
  {
   "cell_type": "code",
   "execution_count": 4,
   "metadata": {},
   "outputs": [
    {
     "ename": "FileNotFoundError",
     "evalue": "[Errno 2] No such file or directory: 'data/cora.pt'",
     "output_type": "error",
     "traceback": [
      "\u001b[1;31m---------------------------------------------------------------------------\u001b[0m",
      "\u001b[1;31mFileNotFoundError\u001b[0m                         Traceback (most recent call last)",
      "\u001b[1;32mc:\\Users\\surfnick\\Downloads\\SNA\\Project\\SNA\\train.ipynb Cell 4\u001b[0m line \u001b[0;36m3\n\u001b[0;32m      <a href='vscode-notebook-cell:/c%3A/Users/surfnick/Downloads/SNA/Project/SNA/train.ipynb#W1sZmlsZQ%3D%3D?line=0'>1</a>\u001b[0m \u001b[39mimport\u001b[39;00m \u001b[39mutils\u001b[39;00m\n\u001b[1;32m----> <a href='vscode-notebook-cell:/c%3A/Users/surfnick/Downloads/SNA/Project/SNA/train.ipynb#W1sZmlsZQ%3D%3D?line=2'>3</a>\u001b[0m adj, features, labels, idx_train, idx_val, idx_test \u001b[39m=\u001b[39m utils\u001b[39m.\u001b[39;49mget_dataset(args\u001b[39m.\u001b[39;49mdataset)\n",
      "File \u001b[1;32mc:\\Users\\surfnick\\Downloads\\SNA\\Project\\SNA\\utils.py:37\u001b[0m, in \u001b[0;36mget_dataset\u001b[1;34m(dataset)\u001b[0m\n\u001b[0;32m     33\u001b[0m \u001b[39mif\u001b[39;00m dataset \u001b[39min\u001b[39;00m {\u001b[39m\"\u001b[39m\u001b[39mpubmed\u001b[39m\u001b[39m\"\u001b[39m, \u001b[39m\"\u001b[39m\u001b[39mcora\u001b[39m\u001b[39m\"\u001b[39m, \u001b[39m\"\u001b[39m\u001b[39mwisconsin\u001b[39m\u001b[39m\"\u001b[39m, \u001b[39m\"\u001b[39m\u001b[39mtexas\u001b[39m\u001b[39m\"\u001b[39m}:\n\u001b[0;32m     35\u001b[0m     file_path \u001b[39m=\u001b[39m \u001b[39m\"\u001b[39m\u001b[39mdata/\u001b[39m\u001b[39m\"\u001b[39m \u001b[39m+\u001b[39m dataset \u001b[39m+\u001b[39m \u001b[39m\"\u001b[39m\u001b[39m.pt\u001b[39m\u001b[39m\"\u001b[39m\n\u001b[1;32m---> 37\u001b[0m     data_list \u001b[39m=\u001b[39m torch\u001b[39m.\u001b[39;49mload(file_path)\n\u001b[0;32m     39\u001b[0m     \u001b[39m# data_list = [adj, features, labels, idx_train, idx_val, idx_test]\u001b[39;00m\n\u001b[0;32m     40\u001b[0m     adj \u001b[39m=\u001b[39m data_list[\u001b[39m0\u001b[39m]\n",
      "File \u001b[1;32mc:\\Users\\surfnick\\anaconda3\\envs\\SNA\\lib\\site-packages\\torch\\serialization.py:986\u001b[0m, in \u001b[0;36mload\u001b[1;34m(f, map_location, pickle_module, weights_only, mmap, **pickle_load_args)\u001b[0m\n\u001b[0;32m    983\u001b[0m \u001b[39mif\u001b[39;00m \u001b[39m'\u001b[39m\u001b[39mencoding\u001b[39m\u001b[39m'\u001b[39m \u001b[39mnot\u001b[39;00m \u001b[39min\u001b[39;00m pickle_load_args\u001b[39m.\u001b[39mkeys():\n\u001b[0;32m    984\u001b[0m     pickle_load_args[\u001b[39m'\u001b[39m\u001b[39mencoding\u001b[39m\u001b[39m'\u001b[39m] \u001b[39m=\u001b[39m \u001b[39m'\u001b[39m\u001b[39mutf-8\u001b[39m\u001b[39m'\u001b[39m\n\u001b[1;32m--> 986\u001b[0m \u001b[39mwith\u001b[39;00m _open_file_like(f, \u001b[39m'\u001b[39;49m\u001b[39mrb\u001b[39;49m\u001b[39m'\u001b[39;49m) \u001b[39mas\u001b[39;00m opened_file:\n\u001b[0;32m    987\u001b[0m     \u001b[39mif\u001b[39;00m _is_zipfile(opened_file):\n\u001b[0;32m    988\u001b[0m         \u001b[39m# The zipfile reader is going to advance the current file position.\u001b[39;00m\n\u001b[0;32m    989\u001b[0m         \u001b[39m# If we want to actually tail call to torch.jit.load, we need to\u001b[39;00m\n\u001b[0;32m    990\u001b[0m         \u001b[39m# reset back to the original position.\u001b[39;00m\n\u001b[0;32m    991\u001b[0m         orig_position \u001b[39m=\u001b[39m opened_file\u001b[39m.\u001b[39mtell()\n",
      "File \u001b[1;32mc:\\Users\\surfnick\\anaconda3\\envs\\SNA\\lib\\site-packages\\torch\\serialization.py:435\u001b[0m, in \u001b[0;36m_open_file_like\u001b[1;34m(name_or_buffer, mode)\u001b[0m\n\u001b[0;32m    433\u001b[0m \u001b[39mdef\u001b[39;00m \u001b[39m_open_file_like\u001b[39m(name_or_buffer, mode):\n\u001b[0;32m    434\u001b[0m     \u001b[39mif\u001b[39;00m _is_path(name_or_buffer):\n\u001b[1;32m--> 435\u001b[0m         \u001b[39mreturn\u001b[39;00m _open_file(name_or_buffer, mode)\n\u001b[0;32m    436\u001b[0m     \u001b[39melse\u001b[39;00m:\n\u001b[0;32m    437\u001b[0m         \u001b[39mif\u001b[39;00m \u001b[39m'\u001b[39m\u001b[39mw\u001b[39m\u001b[39m'\u001b[39m \u001b[39min\u001b[39;00m mode:\n",
      "File \u001b[1;32mc:\\Users\\surfnick\\anaconda3\\envs\\SNA\\lib\\site-packages\\torch\\serialization.py:416\u001b[0m, in \u001b[0;36m_open_file.__init__\u001b[1;34m(self, name, mode)\u001b[0m\n\u001b[0;32m    415\u001b[0m \u001b[39mdef\u001b[39;00m \u001b[39m__init__\u001b[39m(\u001b[39mself\u001b[39m, name, mode):\n\u001b[1;32m--> 416\u001b[0m     \u001b[39msuper\u001b[39m()\u001b[39m.\u001b[39m\u001b[39m__init__\u001b[39m(\u001b[39mopen\u001b[39;49m(name, mode))\n",
      "\u001b[1;31mFileNotFoundError\u001b[0m: [Errno 2] No such file or directory: 'data/cora.pt'"
     ]
    }
   ],
   "source": [
    "import utils\n",
    "\n",
    "adj, features, labels, idx_train, idx_val, idx_test = utils.get_dataset(args.dataset)"
   ]
  },
  {
   "cell_type": "code",
   "execution_count": 5,
   "metadata": {},
   "outputs": [
    {
     "name": "stdout",
     "output_type": "stream",
     "text": [
      "  NumNodes: 2708\n",
      "  NumEdges: 10556\n",
      "  NumFeats: 1433\n",
      "  NumClasses: 7\n",
      "  NumTrainingSamples: 140\n",
      "  NumValidationSamples: 500\n",
      "  NumTestSamples: 1000\n",
      "Done loading data from cached files.\n"
     ]
    }
   ],
   "source": [
    "from dgl.data import CoraGraphDataset\n",
    "\n",
    "graph = CoraGraphDataset(\"data/\" + args.dataset )"
   ]
  },
  {
   "cell_type": "code",
   "execution_count": 26,
   "metadata": {},
   "outputs": [
    {
     "ename": "FileNotFoundError",
     "evalue": "Cannot find DGL C++ sparse library at c:\\Users\\surfnick\\anaconda3\\envs\\SNA\\lib\\site-packages\\dgl\\dgl_sparse\\dgl_sparse_pytorch_2.1.1.dll",
     "output_type": "error",
     "traceback": [
      "\u001b[1;31m---------------------------------------------------------------------------\u001b[0m",
      "\u001b[1;31mFileNotFoundError\u001b[0m                         Traceback (most recent call last)",
      "\u001b[1;32mc:\\Users\\surfnick\\Downloads\\SNA\\Project\\SNA\\train.ipynb Cell 6\u001b[0m line \u001b[0;36m1\n\u001b[1;32m----> <a href='vscode-notebook-cell:/c%3A/Users/surfnick/Downloads/SNA/Project/SNA/train.ipynb#W5sZmlsZQ%3D%3D?line=0'>1</a>\u001b[0m graph[\u001b[39m0\u001b[39;49m]\u001b[39m.\u001b[39;49madjacency_matrix()\n",
      "File \u001b[1;32mc:\\Users\\surfnick\\anaconda3\\envs\\SNA\\lib\\site-packages\\dgl\\heterograph.py:3759\u001b[0m, in \u001b[0;36mDGLGraph.adjacency_matrix\u001b[1;34m(self, etype)\u001b[0m\n\u001b[0;32m   3757\u001b[0m \u001b[39mdef\u001b[39;00m \u001b[39madjacency_matrix\u001b[39m(\u001b[39mself\u001b[39m, etype\u001b[39m=\u001b[39m\u001b[39mNone\u001b[39;00m):\n\u001b[0;32m   3758\u001b[0m \u001b[39m    \u001b[39m\u001b[39m\"\"\"Alias of :meth:`adj`\"\"\"\u001b[39;00m\n\u001b[1;32m-> 3759\u001b[0m     \u001b[39mreturn\u001b[39;00m \u001b[39mself\u001b[39;49m\u001b[39m.\u001b[39;49madj(etype)\n",
      "File \u001b[1;32mc:\\Users\\surfnick\\anaconda3\\envs\\SNA\\lib\\site-packages\\dgl\\heterograph.py:3821\u001b[0m, in \u001b[0;36mDGLGraph.adj\u001b[1;34m(self, etype, eweight_name)\u001b[0m\n\u001b[0;32m   3818\u001b[0m \u001b[39m# Temporal fix to introduce a dependency on torch\u001b[39;00m\n\u001b[0;32m   3819\u001b[0m \u001b[39mimport\u001b[39;00m \u001b[39mtorch\u001b[39;00m\n\u001b[1;32m-> 3821\u001b[0m \u001b[39mfrom\u001b[39;00m \u001b[39m.\u001b[39;00m\u001b[39msparse\u001b[39;00m \u001b[39mimport\u001b[39;00m spmatrix\n\u001b[0;32m   3823\u001b[0m etype \u001b[39m=\u001b[39m \u001b[39mself\u001b[39m\u001b[39m.\u001b[39mto_canonical_etype(etype)\n\u001b[0;32m   3824\u001b[0m indices \u001b[39m=\u001b[39m torch\u001b[39m.\u001b[39mstack(\u001b[39mself\u001b[39m\u001b[39m.\u001b[39mall_edges(etype\u001b[39m=\u001b[39metype))\n",
      "File \u001b[1;32mc:\\Users\\surfnick\\anaconda3\\envs\\SNA\\lib\\site-packages\\dgl\\sparse\\__init__.py:43\u001b[0m\n\u001b[0;32m     39\u001b[0m     \u001b[39mexcept\u001b[39;00m \u001b[39mException\u001b[39;00m:  \u001b[39m# pylint: disable=W0703\u001b[39;00m\n\u001b[0;32m     40\u001b[0m         \u001b[39mraise\u001b[39;00m \u001b[39mImportError\u001b[39;00m(\u001b[39m\"\u001b[39m\u001b[39mCannot load DGL C++ sparse library\u001b[39m\u001b[39m\"\u001b[39m)\n\u001b[1;32m---> 43\u001b[0m load_dgl_sparse()\n",
      "File \u001b[1;32mc:\\Users\\surfnick\\anaconda3\\envs\\SNA\\lib\\site-packages\\dgl\\sparse\\__init__.py:35\u001b[0m, in \u001b[0;36mload_dgl_sparse\u001b[1;34m()\u001b[0m\n\u001b[0;32m     33\u001b[0m path \u001b[39m=\u001b[39m os\u001b[39m.\u001b[39mpath\u001b[39m.\u001b[39mjoin(dirname, \u001b[39m\"\u001b[39m\u001b[39mdgl_sparse\u001b[39m\u001b[39m\"\u001b[39m, basename)\n\u001b[0;32m     34\u001b[0m \u001b[39mif\u001b[39;00m \u001b[39mnot\u001b[39;00m os\u001b[39m.\u001b[39mpath\u001b[39m.\u001b[39mexists(path):\n\u001b[1;32m---> 35\u001b[0m     \u001b[39mraise\u001b[39;00m \u001b[39mFileNotFoundError\u001b[39;00m(\u001b[39mf\u001b[39m\u001b[39m\"\u001b[39m\u001b[39mCannot find DGL C++ sparse library at \u001b[39m\u001b[39m{\u001b[39;00mpath\u001b[39m}\u001b[39;00m\u001b[39m\"\u001b[39m)\n\u001b[0;32m     37\u001b[0m \u001b[39mtry\u001b[39;00m:\n\u001b[0;32m     38\u001b[0m     torch\u001b[39m.\u001b[39mclasses\u001b[39m.\u001b[39mload_library(path)\n",
      "\u001b[1;31mFileNotFoundError\u001b[0m: Cannot find DGL C++ sparse library at c:\\Users\\surfnick\\anaconda3\\envs\\SNA\\lib\\site-packages\\dgl\\dgl_sparse\\dgl_sparse_pytorch_2.1.1.dll"
     ]
    }
   ],
   "source": [
    "graph[0].adjacency_matrix()"
   ]
  }
 ],
 "metadata": {
  "kernelspec": {
   "display_name": "SNA",
   "language": "python",
   "name": "python3"
  },
  "language_info": {
   "codemirror_mode": {
    "name": "ipython",
    "version": 3
   },
   "file_extension": ".py",
   "mimetype": "text/x-python",
   "name": "python",
   "nbconvert_exporter": "python",
   "pygments_lexer": "ipython3",
   "version": "3.9.18"
  }
 },
 "nbformat": 4,
 "nbformat_minor": 2
}
